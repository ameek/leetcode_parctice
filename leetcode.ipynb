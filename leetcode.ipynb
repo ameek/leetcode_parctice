{
  "cells": [
    {
      "cell_type": "markdown",
      "metadata": {
        "id": "view-in-github",
        "colab_type": "text"
      },
      "source": [
        "<a href=\"https://colab.research.google.com/github/ameek/leetcode_parctice/blob/main/leetcode.ipynb\" target=\"_parent\"><img src=\"https://colab.research.google.com/assets/colab-badge.svg\" alt=\"Open In Colab\"/></a>"
      ]
    },
    {
      "cell_type": "code",
      "source": [
        "\n",
        "\n",
        "# n = 2\n",
        "# trust = [[1,2]]\n",
        "\n",
        "# n = 3\n",
        "# trust = [[1,3],[2,3]]\n",
        "# trust = [[1,3],[2,3],[3,1]]\n",
        "# trust = [[1,2],[2,3]]\n",
        "\n",
        "n = 4\n",
        "trust = [[1,3],[1,4],[2,3],[2,4],[4,3],[2,1]]\n",
        "\n",
        "trustlist = [0] * (n+1)\n",
        "trustlist[0] = -1\n",
        "\n",
        "print('before');\n",
        "print (trustlist)\n",
        "\n",
        "for i in trust:\n",
        "    trustlist[i[0]]=i[1] \n",
        "\n",
        "print('after');\n",
        "print (trustlist)\n",
        "try:\n",
        "  if(trustlist.index(0)):\n",
        "    if (trustlist.count(trustlist.index(0)) < n-1):\n",
        "      print('not error',-1)\n",
        "      # return -1\n",
        "    else:\n",
        "      print(trustlist.index(0))\n",
        "      # return trustlist.index(0)\n",
        "\n",
        "except:\n",
        "  print(-1)\n"
      ],
      "metadata": {
        "id": "jiKdJxkiZ-gI",
        "outputId": "0c41c1e6-857f-431f-81a6-69c17b10b840",
        "colab": {
          "base_uri": "https://localhost:8080/"
        }
      },
      "execution_count": null,
      "outputs": [
        {
          "output_type": "stream",
          "name": "stdout",
          "text": [
            "before\n",
            "[-1, 0, 0, 0, 0]\n",
            "after\n",
            "[-1, 4, 1, 0, 3]\n",
            "not error -1\n"
          ]
        }
      ]
    },
    {
      "cell_type": "code",
      "source": [
        "\n",
        "\n",
        "# n = 2\n",
        "# trust = [[1,2]]\n",
        "\n",
        "# n = 3\n",
        "# trust = [[1,3],[2,3]]\n",
        "# trust = [[1,3],[2,3],[3,1]]\n",
        "# trust = [[1,2],[2,3]]\n",
        "\n",
        "n = 4\n",
        "trust = [\n",
        "    [1,3],\n",
        "    [1,4],\n",
        "    [2,3],\n",
        "    [2,4],\n",
        "    [4,3],\n",
        "    [2,1]\n",
        "    ]\n",
        "\n",
        "trustlist = [0] * (n+1)\n",
        "trustlist[0] = -1\n",
        "\n",
        "print('before');\n",
        "print (trustlist)\n",
        "\n",
        "for i in trust:\n",
        "    trustlist[i[0]]=i[1] \n",
        "\n",
        "print('after');\n",
        "print (trustlist)\n",
        "try:\n",
        "  if(trustlist.index(0)):\n",
        "    if (trustlist.count(trustlist.index(0)) < n-1):\n",
        "      print('not error',-1)\n",
        "    else:\n",
        "      print(trustlist.index(0))\n",
        "      # return trustlist.index(0)\n",
        "\n",
        "except:\n",
        "  print(-1)"
      ],
      "metadata": {
        "colab": {
          "base_uri": "https://localhost:8080/"
        },
        "id": "UPM-nJZU6g1v",
        "outputId": "118075a5-ff81-4d39-8018-79d097394751"
      },
      "execution_count": null,
      "outputs": [
        {
          "output_type": "stream",
          "name": "stdout",
          "text": [
            "before\n",
            "[-1, 0, 0, 0, 0]\n",
            "after\n",
            "[-1, 4, 1, 0, 3]\n",
            "not error -1\n"
          ]
        }
      ]
    },
    {
      "cell_type": "code",
      "source": [],
      "metadata": {
        "id": "s1hn_3XXcF-s"
      },
      "execution_count": null,
      "outputs": []
    },
    {
      "cell_type": "code",
      "source": [
        "def solution(a):\n",
        "  rank = [0]  * 10\n",
        "  for i in a:\n",
        "    if i > 9:\n",
        "      tenth_number = i % 10\n",
        "      # print(tenth_number)\n",
        "      # rank[tenth_number] = rank[tenth_number] + 1   \n",
        "      rank[tenth_number] += 1   \n",
        "      oneth_number = int(i / 10)\n",
        "      # print(oneth_number)\n",
        "      rank[oneth_number] = rank[oneth_number] + 1   \n",
        "    else:\n",
        "      # print(i)\n",
        "      rank[i] = rank[i] + 1\n",
        "  # print(max(rank))\n",
        "  max_value = max(rank)\n",
        "  ans = []\n",
        "  for i in range(10):\n",
        "    if rank[i] == max_value:\n",
        "      ans.append(i)\n",
        "  # print(count(max(rank)))\n",
        "  return ans\n",
        "a = [25,2,3,57,38,41]\n",
        "print(solution(a))\n"
      ],
      "metadata": {
        "colab": {
          "base_uri": "https://localhost:8080/"
        },
        "id": "oN_oltaPhWWw",
        "outputId": "7afd1ed5-00ed-4093-8378-3158df6975e0"
      },
      "execution_count": null,
      "outputs": [
        {
          "output_type": "stream",
          "name": "stdout",
          "text": [
            "[2, 3, 5]\n"
          ]
        }
      ]
    },
    {
      "cell_type": "code",
      "source": [
        "a = 'hit'\n",
        "a[:0]"
      ],
      "metadata": {
        "colab": {
          "base_uri": "https://localhost:8080/",
          "height": 35
        },
        "id": "SXnVgfiWlSd5",
        "outputId": "e465018a-3003-4293-9636-c16e540c8a92"
      },
      "execution_count": null,
      "outputs": [
        {
          "output_type": "execute_result",
          "data": {
            "text/plain": [
              "''"
            ],
            "application/vnd.google.colaboratory.intrinsic+json": {
              "type": "string"
            }
          },
          "metadata": {},
          "execution_count": 33
        }
      ]
    },
    {
      "cell_type": "code",
      "source": [
        "a = 'hit'\n",
        "a[0:]"
      ],
      "metadata": {
        "colab": {
          "base_uri": "https://localhost:8080/",
          "height": 35
        },
        "id": "VZqpwdg9s07q",
        "outputId": "fcf7b3ea-5d7c-4de0-c7bd-cebe247dc886"
      },
      "execution_count": null,
      "outputs": [
        {
          "output_type": "execute_result",
          "data": {
            "text/plain": [
              "'hit'"
            ],
            "application/vnd.google.colaboratory.intrinsic+json": {
              "type": "string"
            }
          },
          "metadata": {},
          "execution_count": 34
        }
      ]
    },
    {
      "cell_type": "code",
      "source": [
        "def ladderLength( beginWord, endWord, wordList):\n",
        "        s=set(wordList)\n",
        "        l=['a','b','c','d','e','f','g','h','i','j','k','l','m','n','o','p','q','r','s','t',\n",
        "        'u','v','w','x','y','z']\n",
        "        # queue=deque([])\n",
        "        queue= []\n",
        "        queue.append([beginWord,0])\n",
        "        while queue:\n",
        "            a,b=queue.pop(0)\n",
        "            if a == endWord:\n",
        "                return b+1\n",
        "            for j in range(len(a)):\n",
        "                for i in l:\n",
        "                    possible_neighbor =a[:j]+i+a[j+1:] \n",
        "                    if possible_neighbor in s and possible_neighbor != beginWord:\n",
        "                        s.remove(possible_neighbor)\n",
        "                        queue.append([possible_neighbor ,b+1])\n",
        "        return 0\n",
        "# beginWord = 'hit'\n",
        "# endWord = 'cog'\n",
        "# wordList = ['hot', 'dog', 'dot', 'lot', 'log' ,'cog']\n",
        "\n",
        "beginWord = 'a'\n",
        "endWord = 'c'\n",
        "wordList = ['a','b','c']\n",
        "\n",
        "ladderLength(beginWord, endWord, wordList)\n",
        "ladderLength(beginWord, endWord, wordList)"
      ],
      "metadata": {
        "colab": {
          "base_uri": "https://localhost:8080/"
        },
        "id": "FTglJ9afqaTH",
        "outputId": "b17e2977-2908-48ba-e5b9-633cc3ff8d37"
      },
      "execution_count": null,
      "outputs": [
        {
          "output_type": "execute_result",
          "data": {
            "text/plain": [
              "2"
            ]
          },
          "metadata": {},
          "execution_count": 41
        }
      ]
    },
    {
      "cell_type": "code",
      "source": [
        "c='a'\n",
        "d='z'\n",
        "# x=ord(c)\n",
        "ord(c)\n",
        "#it will give you the ASCII value stored in x\n",
        "# chr(x)\n",
        "#it will return back the character"
      ],
      "metadata": {
        "colab": {
          "base_uri": "https://localhost:8080/"
        },
        "id": "iuU0-VX6qek4",
        "outputId": "af14bbe9-7905-4dda-eed2-5fd639218129"
      },
      "execution_count": null,
      "outputs": [
        {
          "output_type": "execute_result",
          "data": {
            "text/plain": [
              "97"
            ]
          },
          "metadata": {},
          "execution_count": 31
        }
      ]
    },
    {
      "cell_type": "code",
      "source": [
        "c='a'\n",
        "d='z'\n",
        "# x=ord(c)\n",
        "ord(d)\n",
        "#it will give you the ASCII value stored in x\n",
        "# chr(x)\n",
        "#it will return back the character"
      ],
      "metadata": {
        "colab": {
          "base_uri": "https://localhost:8080/"
        },
        "id": "O5F3WiBksW5n",
        "outputId": "a9bb10c5-8120-45a3-8258-104ea0de6282"
      },
      "execution_count": null,
      "outputs": [
        {
          "output_type": "execute_result",
          "data": {
            "text/plain": [
              "122"
            ]
          },
          "metadata": {},
          "execution_count": 32
        }
      ]
    },
    {
      "cell_type": "code",
      "source": [
        "word = 'hit'\n",
        "for w in range(len(word)):\n",
        "  for i in range(97,123):\n",
        "\n",
        "    newWrod =word[:w] + chr(i) + word[w+1:]\n",
        "    print(newWrod)"
      ],
      "metadata": {
        "id": "y6G-FuQywnvM"
      },
      "execution_count": null,
      "outputs": []
    },
    {
      "cell_type": "code",
      "source": [
        "a = [1, 2, 3]\n",
        "b = [4, 5, 6]\n",
        "print(a + b)"
      ],
      "metadata": {
        "colab": {
          "base_uri": "https://localhost:8080/"
        },
        "id": "3V_3M8ctQoe_",
        "outputId": "104d3d35-0a31-4cfe-8184-d2ad88b1cd41"
      },
      "execution_count": null,
      "outputs": [
        {
          "output_type": "stream",
          "name": "stdout",
          "text": [
            "[1, 2, 3, 4, 5, 6]\n"
          ]
        }
      ]
    },
    {
      "cell_type": "code",
      "source": [
        "a ='pythoN'\n",
        "b ='python'\n",
        "\n",
        "print(a > b)"
      ],
      "metadata": {
        "colab": {
          "base_uri": "https://localhost:8080/"
        },
        "id": "O_pVUZAgRByE",
        "outputId": "4643783a-7bf9-4b7a-c97f-961202692414"
      },
      "execution_count": null,
      "outputs": [
        {
          "output_type": "stream",
          "name": "stdout",
          "text": [
            "False\n"
          ]
        }
      ]
    },
    {
      "cell_type": "markdown",
      "source": [
        "[217. Contains Duplicate](https://leetcode.com/problems/contains-duplicate/)"
      ],
      "metadata": {
        "id": "vgmOftCMHZEB"
      }
    },
    {
      "cell_type": "code",
      "source": [
        "a = [1,2,2,3]\n",
        "3 in a\n"
      ],
      "metadata": {
        "colab": {
          "base_uri": "https://localhost:8080/"
        },
        "id": "iJOydTd6HYIe",
        "outputId": "44fe0ba8-f7a3-47d3-e4a8-747d6a81cb55"
      },
      "execution_count": null,
      "outputs": [
        {
          "output_type": "execute_result",
          "data": {
            "text/plain": [
              "True"
            ]
          },
          "metadata": {},
          "execution_count": 2
        }
      ]
    },
    {
      "cell_type": "code",
      "source": [
        "# def containsDuplicate(self, nums: List[int]) -> bool:\n",
        "def containsDuplicate(nums):\n",
        "    flag = 'null'\n",
        "    counter = 0\n",
        "    print(\"len \",len(nums))\n",
        "    for i in nums:\n",
        "      counter = counter + 1\n",
        "\n",
        "      # print(i)\n",
        "      nums.remove(i)\n",
        "      if i in nums:\n",
        "          print('true')\n",
        "          # print(i)\n",
        "          flag = 'true'\n",
        "          # break\n",
        "    if flag == 'null':\n",
        "        print('false')\n",
        "    print(\"counter \",counter)\n",
        "    "
      ],
      "metadata": {
        "id": "7pW9gSEK-2nI"
      },
      "execution_count": null,
      "outputs": []
    },
    {
      "cell_type": "code",
      "source": [
        "a = [1,2,3,1] #[1,2,2,3]\n",
        "b = [-962,-487,-924,-968,-962]\n",
        "c = [274,-735,-962,-487,-924,-968,-962,-911,80,454,-511,922,-775,985,-669,-463,-896,-629,-586,910,-361,288,\n",
        "     -375,88,556,-578,-406,-87,25,377,-635,-445,-289,646,\n",
        "     502,36,129,-611,54,-27,-496,915,-84,-782,349,678,332,-114,345,14,119,710,821,\n",
        "     -194,988,38,-369,409,-559,-529,-298,-593,705]\n",
        "\n",
        "\n",
        "# containsDuplicate(a)\n",
        "# containsDuplicate(b)\n",
        "containsDuplicate(c)"
      ],
      "metadata": {
        "colab": {
          "base_uri": "https://localhost:8080/"
        },
        "id": "qdy-sQ_x-3b1",
        "outputId": "f998bfb0-18c7-4718-b91a-ed90b333ae31"
      },
      "execution_count": null,
      "outputs": [
        {
          "output_type": "stream",
          "name": "stdout",
          "text": [
            "len  63\n",
            "true\n",
            "counter  32\n"
          ]
        }
      ]
    },
    {
      "cell_type": "code",
      "source": [
        "# 40 kg \n",
        "\n",
        "# per kg 900 / 700\n",
        "\n",
        "# carying 200 sundorban to shatkhira \n",
        "# corrior 350 \n",
        "\n",
        "# total transport 600"
      ],
      "metadata": {
        "id": "8X9w9IgU_pdq"
      },
      "execution_count": null,
      "outputs": []
    },
    {
      "cell_type": "code",
      "source": [
        "arr_alphabate = [0]*26\n",
        "HIS_name = \"ameek\"\n",
        "HER_name = \"mitul\"\n",
        "if HIS_name == HER_name:\n",
        "  print(\"true\")\n",
        "for i in range(0,len(HIS_name)):\n",
        "  print(i)\n",
        "\n",
        "name[0]"
      ],
      "metadata": {
        "colab": {
          "base_uri": "https://localhost:8080/",
          "height": 124
        },
        "id": "1fclTSWBTJim",
        "outputId": "27d9af9d-cb7e-4959-9791-072ce6cc4763"
      },
      "execution_count": null,
      "outputs": [
        {
          "output_type": "stream",
          "name": "stdout",
          "text": [
            "0\n",
            "1\n",
            "2\n",
            "3\n",
            "4\n"
          ]
        },
        {
          "output_type": "execute_result",
          "data": {
            "text/plain": [
              "'a'"
            ],
            "application/vnd.google.colaboratory.intrinsic+json": {
              "type": "string"
            }
          },
          "metadata": {},
          "execution_count": 4
        }
      ]
    },
    {
      "cell_type": "code",
      "source": [],
      "metadata": {
        "id": "6Ig5AWGlTSay"
      },
      "execution_count": null,
      "outputs": []
    }
  ],
  "metadata": {
    "colab": {
      "provenance": [],
      "include_colab_link": true
    },
    "kernelspec": {
      "display_name": "Python 3",
      "name": "python3"
    }
  },
  "nbformat": 4,
  "nbformat_minor": 0
}