{
  "cells": [
    {
      "cell_type": "markdown",
      "metadata": {
        "id": "view-in-github",
        "colab_type": "text"
      },
      "source": [
        "<a href=\"https://colab.research.google.com/github/ameek/leetcode_parctice/blob/main/leetcode.ipynb\" target=\"_parent\"><img src=\"https://colab.research.google.com/assets/colab-badge.svg\" alt=\"Open In Colab\"/></a>"
      ]
    },
    {
      "cell_type": "code",
      "source": [
        "\n",
        "\n",
        "# n = 2\n",
        "# trust = [[1,2]]\n",
        "\n",
        "# n = 3\n",
        "# trust = [[1,3],[2,3]]\n",
        "# trust = [[1,3],[2,3],[3,1]]\n",
        "# trust = [[1,2],[2,3]]\n",
        "\n",
        "n = 4\n",
        "trust = [[1,3],[1,4],[2,3],[2,4],[4,3],[2,1]]\n",
        "\n",
        "trustlist = [0] * (n+1)\n",
        "trustlist[0] = -1\n",
        "\n",
        "print('before');\n",
        "print (trustlist)\n",
        "\n",
        "for i in trust:\n",
        "    trustlist[i[0]]=i[1] \n",
        "\n",
        "print('after');\n",
        "print (trustlist)\n",
        "try:\n",
        "  if(trustlist.index(0)):\n",
        "    if (trustlist.count(trustlist.index(0)) < n-1):\n",
        "      print('not error',-1)\n",
        "      # return -1\n",
        "    else:\n",
        "      print(trustlist.index(0))\n",
        "      # return trustlist.index(0)\n",
        "\n",
        "except:\n",
        "  print(-1)\n"
      ],
      "metadata": {
        "id": "jiKdJxkiZ-gI",
        "outputId": "0c41c1e6-857f-431f-81a6-69c17b10b840",
        "colab": {
          "base_uri": "https://localhost:8080/"
        }
      },
      "execution_count": null,
      "outputs": [
        {
          "output_type": "stream",
          "name": "stdout",
          "text": [
            "before\n",
            "[-1, 0, 0, 0, 0]\n",
            "after\n",
            "[-1, 4, 1, 0, 3]\n",
            "not error -1\n"
          ]
        }
      ]
    },
    {
      "cell_type": "code",
      "source": [
        "\n",
        "\n",
        "# n = 2\n",
        "# trust = [[1,2]]\n",
        "\n",
        "# n = 3\n",
        "# trust = [[1,3],[2,3]]\n",
        "# trust = [[1,3],[2,3],[3,1]]\n",
        "# trust = [[1,2],[2,3]]\n",
        "\n",
        "n = 4\n",
        "trust = [\n",
        "    [1,3],\n",
        "    [1,4],\n",
        "    [2,3],\n",
        "    [2,4],\n",
        "    [4,3],\n",
        "    [2,1]\n",
        "    ]\n",
        "\n",
        "trustlist = [0] * (n+1)\n",
        "trustlist[0] = -1\n",
        "\n",
        "print('before');\n",
        "print (trustlist)\n",
        "\n",
        "for i in trust:\n",
        "    trustlist[i[0]]=i[1] \n",
        "\n",
        "print('after');\n",
        "print (trustlist)\n",
        "try:\n",
        "  if(trustlist.index(0)):\n",
        "    if (trustlist.count(trustlist.index(0)) < n-1):\n",
        "      print('not error',-1)\n",
        "    else:\n",
        "      print(trustlist.index(0))\n",
        "      # return trustlist.index(0)\n",
        "\n",
        "except:\n",
        "  print(-1)"
      ],
      "metadata": {
        "colab": {
          "base_uri": "https://localhost:8080/"
        },
        "id": "UPM-nJZU6g1v",
        "outputId": "118075a5-ff81-4d39-8018-79d097394751"
      },
      "execution_count": null,
      "outputs": [
        {
          "output_type": "stream",
          "name": "stdout",
          "text": [
            "before\n",
            "[-1, 0, 0, 0, 0]\n",
            "after\n",
            "[-1, 4, 1, 0, 3]\n",
            "not error -1\n"
          ]
        }
      ]
    },
    {
      "cell_type": "code",
      "source": [],
      "metadata": {
        "id": "s1hn_3XXcF-s"
      },
      "execution_count": null,
      "outputs": []
    },
    {
      "cell_type": "code",
      "source": [
        "def solution(a):\n",
        "  rank = [0]  * 10\n",
        "  for i in a:\n",
        "    if i > 9:\n",
        "      tenth_number = i % 10\n",
        "      # print(tenth_number)\n",
        "      # rank[tenth_number] = rank[tenth_number] + 1   \n",
        "      rank[tenth_number] += 1   \n",
        "      oneth_number = int(i / 10)\n",
        "      # print(oneth_number)\n",
        "      rank[oneth_number] = rank[oneth_number] + 1   \n",
        "    else:\n",
        "      # print(i)\n",
        "      rank[i] = rank[i] + 1\n",
        "  # print(max(rank))\n",
        "  max_value = max(rank)\n",
        "  ans = []\n",
        "  for i in range(10):\n",
        "    if rank[i] == max_value:\n",
        "      ans.append(i)\n",
        "  # print(count(max(rank)))\n",
        "  return ans\n",
        "a = [25,2,3,57,38,41]\n",
        "print(solution(a))\n"
      ],
      "metadata": {
        "colab": {
          "base_uri": "https://localhost:8080/"
        },
        "id": "oN_oltaPhWWw",
        "outputId": "7afd1ed5-00ed-4093-8378-3158df6975e0"
      },
      "execution_count": null,
      "outputs": [
        {
          "output_type": "stream",
          "name": "stdout",
          "text": [
            "[2, 3, 5]\n"
          ]
        }
      ]
    },
    {
      "cell_type": "code",
      "source": [
        "a = 'hit'\n",
        "a[:0]"
      ],
      "metadata": {
        "colab": {
          "base_uri": "https://localhost:8080/",
          "height": 35
        },
        "id": "SXnVgfiWlSd5",
        "outputId": "e465018a-3003-4293-9636-c16e540c8a92"
      },
      "execution_count": null,
      "outputs": [
        {
          "output_type": "execute_result",
          "data": {
            "text/plain": [
              "''"
            ],
            "application/vnd.google.colaboratory.intrinsic+json": {
              "type": "string"
            }
          },
          "metadata": {},
          "execution_count": 33
        }
      ]
    },
    {
      "cell_type": "code",
      "source": [
        "a = 'hit'\n",
        "a[0:]"
      ],
      "metadata": {
        "colab": {
          "base_uri": "https://localhost:8080/",
          "height": 35
        },
        "id": "VZqpwdg9s07q",
        "outputId": "fcf7b3ea-5d7c-4de0-c7bd-cebe247dc886"
      },
      "execution_count": null,
      "outputs": [
        {
          "output_type": "execute_result",
          "data": {
            "text/plain": [
              "'hit'"
            ],
            "application/vnd.google.colaboratory.intrinsic+json": {
              "type": "string"
            }
          },
          "metadata": {},
          "execution_count": 34
        }
      ]
    },
    {
      "cell_type": "code",
      "source": [
        "def ladderLength( beginWord, endWord, wordList):\n",
        "        s=set(wordList)\n",
        "        l=['a','b','c','d','e','f','g','h','i','j','k','l','m','n','o','p','q','r','s','t',\n",
        "        'u','v','w','x','y','z']\n",
        "        # queue=deque([])\n",
        "        queue= []\n",
        "        queue.append([beginWord,0])\n",
        "        while queue:\n",
        "            a,b=queue.pop(0)\n",
        "            if a == endWord:\n",
        "                return b+1\n",
        "            for j in range(len(a)):\n",
        "                for i in l:\n",
        "                    possible_neighbor =a[:j]+i+a[j+1:] \n",
        "                    if possible_neighbor in s and possible_neighbor != beginWord:\n",
        "                        s.remove(possible_neighbor)\n",
        "                        queue.append([possible_neighbor ,b+1])\n",
        "        return 0\n",
        "# beginWord = 'hit'\n",
        "# endWord = 'cog'\n",
        "# wordList = ['hot', 'dog', 'dot', 'lot', 'log' ,'cog']\n",
        "\n",
        "beginWord = 'a'\n",
        "endWord = 'c'\n",
        "wordList = ['a','b','c']\n",
        "\n",
        "ladderLength(beginWord, endWord, wordList)\n",
        "ladderLength(beginWord, endWord, wordList)"
      ],
      "metadata": {
        "colab": {
          "base_uri": "https://localhost:8080/"
        },
        "id": "FTglJ9afqaTH",
        "outputId": "b17e2977-2908-48ba-e5b9-633cc3ff8d37"
      },
      "execution_count": null,
      "outputs": [
        {
          "output_type": "execute_result",
          "data": {
            "text/plain": [
              "2"
            ]
          },
          "metadata": {},
          "execution_count": 41
        }
      ]
    },
    {
      "cell_type": "code",
      "source": [
        "c='a'\n",
        "d='z'\n",
        "# x=ord(c)\n",
        "ord(c)\n",
        "#it will give you the ASCII value stored in x\n",
        "# chr(x)\n",
        "#it will return back the character"
      ],
      "metadata": {
        "colab": {
          "base_uri": "https://localhost:8080/"
        },
        "id": "iuU0-VX6qek4",
        "outputId": "af14bbe9-7905-4dda-eed2-5fd639218129"
      },
      "execution_count": null,
      "outputs": [
        {
          "output_type": "execute_result",
          "data": {
            "text/plain": [
              "97"
            ]
          },
          "metadata": {},
          "execution_count": 31
        }
      ]
    },
    {
      "cell_type": "code",
      "source": [
        "c='a'\n",
        "d='z'\n",
        "# x=ord(c)\n",
        "ord(d)\n",
        "#it will give you the ASCII value stored in x\n",
        "# chr(x)\n",
        "#it will return back the character"
      ],
      "metadata": {
        "colab": {
          "base_uri": "https://localhost:8080/"
        },
        "id": "O5F3WiBksW5n",
        "outputId": "a9bb10c5-8120-45a3-8258-104ea0de6282"
      },
      "execution_count": null,
      "outputs": [
        {
          "output_type": "execute_result",
          "data": {
            "text/plain": [
              "122"
            ]
          },
          "metadata": {},
          "execution_count": 32
        }
      ]
    },
    {
      "cell_type": "code",
      "source": [
        "word = 'hit'\n",
        "for w in range(len(word)):\n",
        "  for i in range(97,123):\n",
        "\n",
        "    newWrod =word[:w] + chr(i) + word[w+1:]\n",
        "    print(newWrod)"
      ],
      "metadata": {
        "id": "y6G-FuQywnvM"
      },
      "execution_count": null,
      "outputs": []
    }
  ],
  "metadata": {
    "colab": {
      "provenance": [],
      "include_colab_link": true
    },
    "kernelspec": {
      "display_name": "Python 3",
      "name": "python3"
    }
  },
  "nbformat": 4,
  "nbformat_minor": 0
}